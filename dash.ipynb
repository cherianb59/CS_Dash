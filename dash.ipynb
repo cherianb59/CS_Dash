{
 "cells": [
  {
   "cell_type": "code",
   "execution_count": 6,
   "id": "5ef0f33a-8d0a-4d26-b1c9-d884f86ea79b",
   "metadata": {},
   "outputs": [],
   "source": [
    "import pandas as pd\n",
    "import numpy as np\n",
    "import cs_baseline"
   ]
  },
  {
   "cell_type": "code",
   "execution_count": 19,
   "id": "4f72b9a8-8e11-4f9d-8332-80be00412828",
   "metadata": {},
   "outputs": [
    {
     "name": "stdout",
     "output_type": "stream",
     "text": [
      "15000\n"
     ]
    }
   ],
   "source": [
    "one_to_hundred = pd.Series(range(1,30000,2))\n",
    "print(len(one_to_hundred))"
   ]
  },
  {
   "cell_type": "code",
   "execution_count": 24,
   "id": "7cbd4b64-9d45-4b58-86f3-64c00a4be25a",
   "metadata": {},
   "outputs": [],
   "source": [
    "test =  [(cs_baseline.cs_baseline)(2022,[0,1,2,3,5],5\n",
    "                ,\"Par a\",[0,0,0,0,0],0,0,0,0,0,x*1000,0,0\n",
    "                ,\"Par B\",[0,0,0,0,0],0,0,0,0,0,50000,0,0) for x in one_to_hundred]\n"
   ]
  },
  {
   "cell_type": "code",
   "execution_count": 9,
   "id": "0bfd7561-d214-46c7-9635-31c2fc44407a",
   "metadata": {},
   "outputs": [
    {
     "data": {
      "text/plain": [
       "6167.0"
      ]
     },
     "execution_count": 9,
     "metadata": {},
     "output_type": "execute_result"
    }
   ],
   "source": []
  }
 ],
 "metadata": {
  "kernelspec": {
   "display_name": "Python 3 (ipykernel)",
   "language": "python",
   "name": "python3"
  },
  "language_info": {
   "codemirror_mode": {
    "name": "ipython",
    "version": 3
   },
   "file_extension": ".py",
   "mimetype": "text/x-python",
   "name": "python",
   "nbconvert_exporter": "python",
   "pygments_lexer": "ipython3",
   "version": "3.9.2"
  }
 },
 "nbformat": 4,
 "nbformat_minor": 5
}
