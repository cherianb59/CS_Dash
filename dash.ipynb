{
 "cells": [
  {
   "cell_type": "code",
   "execution_count": 6,
   "id": "5ef0f33a-8d0a-4d26-b1c9-d884f86ea79b",
   "metadata": {},
   "outputs": [],
   "source": [
    "import pandas as pd\n",
    "import numpy as np\n",
    "import cs_baseline"
   ]
  },
  {
   "cell_type": "code",
   "execution_count": 33,
   "id": "4f72b9a8-8e11-4f9d-8332-80be00412828",
   "metadata": {},
   "outputs": [],
   "source": [
    "one_to_hundred = pd.Series(range(1,300000,1))\n"
   ]
  },
  {
   "cell_type": "code",
   "execution_count": 36,
   "id": "b4d8434f-73e2-4c91-8ecd-f244a21da0b8",
   "metadata": {},
   "outputs": [
    {
     "name": "stdout",
     "output_type": "stream",
     "text": [
      "44.1 s ± 135 ms per loop (mean ± std. dev. of 7 runs, 1 loop each)\n"
     ]
    }
   ],
   "source": [
    "%%timeit\n",
    "test =  [(cs_baseline.cs_baseline)(2022,[0,1,2,3,5],5\n",
    "                ,\"Par a\",[0,0,0,0,0],0,0,0,0,0,x*1000,0,0\n",
    "                ,\"Par B\",[0,0,0,0,0],0,0,0,0,0,50000,0,0) for x in one_to_hundred]"
   ]
  },
  {
   "cell_type": "code",
   "execution_count": 37,
   "id": "9f5b1839-fe4b-4d8d-8b77-9038d8eebe2a",
   "metadata": {},
   "outputs": [
    {
     "name": "stdout",
     "output_type": "stream",
     "text": [
      "42.5 s ± 127 ms per loop (mean ± std. dev. of 7 runs, 1 loop each)\n"
     ]
    }
   ],
   "source": [
    "%%timeit\n",
    "ages_array = np.ndarray((1,), dtype=object)\n",
    "ages_array[0] = [1,2,3,4,5]\n",
    "a_cn_array = np.ndarray((1,), dtype=object)\n",
    "a_cn_array[0] = [0,0,0,0,0]\n",
    "b_cn_array = np.ndarray((1,), dtype=object)\n",
    "b_cn_array[0] = [0,0,0,0,0]\n",
    "\n",
    "test =  np.vectorize(cs_baseline.cs_baseline)(2022,ages_array,5\n",
    "                ,\"Par A\",a_cn_array,0,0,0,0,0,one_to_hundred,0,0\n",
    "                ,\"Par B\",b_cn_array,0,0,0,0,0,50000,0,0) "
   ]
  },
  {
   "cell_type": "code",
   "execution_count": 9,
   "id": "0bfd7561-d214-46c7-9635-31c2fc44407a",
   "metadata": {},
   "outputs": [
    {
     "data": {
      "text/plain": [
       "6167.0"
      ]
     },
     "execution_count": 9,
     "metadata": {},
     "output_type": "execute_result"
    }
   ],
   "source": []
  }
 ],
 "metadata": {
  "kernelspec": {
   "display_name": "Python 3 (ipykernel)",
   "language": "python",
   "name": "python3"
  },
  "language_info": {
   "codemirror_mode": {
    "name": "ipython",
    "version": 3
   },
   "file_extension": ".py",
   "mimetype": "text/x-python",
   "name": "python",
   "nbconvert_exporter": "python",
   "pygments_lexer": "ipython3",
   "version": "3.9.2"
  }
 },
 "nbformat": 4,
 "nbformat_minor": 5
}
