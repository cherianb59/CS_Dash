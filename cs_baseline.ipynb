{
 "cells": [
  {
   "cell_type": "code",
   "execution_count": 88,
   "id": "e5bbc4a3-7d62-47a8-a34f-965f5f7df47c",
   "metadata": {},
   "outputs": [
    {
     "data": {
      "text/plain": [
       "<module 'cs_baseline' from '/home/chez/projects/cs_dash/cs_baseline.py'>"
      ]
     },
     "execution_count": 88,
     "metadata": {},
     "output_type": "execute_result"
    }
   ],
   "source": [
    "import importlib\n",
    "import pandas as pd\n",
    "importlib.reload(cs_baseline)"
   ]
  },
  {
   "cell_type": "code",
   "execution_count": 6,
   "id": "ddd934f8-026e-40f1-afe7-c730a63fef4b",
   "metadata": {},
   "outputs": [
    {
     "name": "stdout",
     "output_type": "stream",
     "text": [
      "combined_csi 145874.0\n",
      "a_income_pct 0.1572\n",
      "a_cost_pct 0.45\n",
      "a_cost_pct 0.76\n",
      "a_cost_pct 1\n",
      "basic_coc 37445.4\n",
      "a_form_liab 0.0\n",
      "b_form_liab 21698.36112\n",
      "a_total_liability -21698.36112\n"
     ]
    },
    {
     "data": {
      "text/plain": [
       "-21698.36112"
      ]
     },
     "execution_count": 6,
     "metadata": {},
     "output_type": "execute_result"
    }
   ],
   "source": [
    "  cs_baseline.cs_baseline(2022,[1,2,3],3\n",
    ",\"Par A\",[165,265,365], 0 , 0 , 0 , 0, 0,50000,0,0\n",
    ",\"Par B\",[0  ,0  ,0  ], 0 , 0 , 0 , 0, 0,150000,0,0 )"
   ]
  },
  {
   "cell_type": "code",
   "execution_count": 101,
   "id": "0beda9ae-8fb5-4bd0-9514-3de16989289b",
   "metadata": {},
   "outputs": [],
   "source": [
    "import cProfile\n",
    "#600000 repititions 45 seconds\n",
    "cProfile.run('for i in range(600000):\\\n",
    "             cs_baseline(2022,[1,2,3],3\\\n",
    ",\"Par A\",[165,265,365], 0 , 0 , 0 , 0, 0,50000,0,0\\\n",
    ",\"Par B\",[0  ,0  ,0  ], 0 , 0 , 0 , 0, 0,150000,0,0 )')"
   ]
  },
  {
   "cell_type": "code",
   "execution_count": 94,
   "id": "289007b1-fbb5-435a-8b02-97f63d613542",
   "metadata": {},
   "outputs": [
    {
     "data": {
      "text/plain": [
       "Index(['Case_id', 'liability', 'payer', 'Assess_year', 'A_ATI', 'B_ATI',\n",
       "       'A_ISP', 'B_ISP', 'Age1', 'Age2', 'Age3', 'Age4', 'Age5', 'A_CN1',\n",
       "       'A_CN2', 'A_CN3', 'A_CN4', 'A_CN5', 'A_RelDep_12l', 'A_RelDep_13p',\n",
       "       'B_RelDep_12l', 'B_RelDep_13p', 'A_othercase_n', 'A_othercase_12l',\n",
       "       'A_othercase_13p', 'B_othercase_n', 'B_othercase_12l',\n",
       "       'B_othercase_13p', 'a_oth_lsc', 'b_oth_lsc', 'a_farnta', 'b_farnta'],\n",
       "      dtype='object')"
      ]
     },
     "execution_count": 94,
     "metadata": {},
     "output_type": "execute_result"
    }
   ],
   "source": [
    "cs_validated = pd.read_csv(\"cs_validated.csv\")\n",
    "(cs_validated.columns)"
   ]
  },
  {
   "cell_type": "code",
   "execution_count": 95,
   "id": "5d438580-77d2-425a-84fc-95ed4ccfe5ed",
   "metadata": {},
   "outputs": [],
   "source": [
    "cs_validated[\"ages\"] = cs_validated[['Age1', 'Age2', 'Age3', 'Age4', 'Age5']].values.tolist()\n",
    "cs_validated[\"nchild\"] = 5 - cs_validated[['Age1', 'Age2', 'Age3', 'Age4', 'Age5']].isnull().sum(axis=1)\n",
    "cs_validated[\"a_name\"] = \"A\"\n",
    "cs_validated[\"b_name\"] = \"B\"\n",
    "cs_validated[\"a_cn\"] = cs_validated[['A_CN1','A_CN2', 'A_CN3', 'A_CN4', 'A_CN5']].values.tolist()\n",
    "cs_validated[\"b_cn\"] = [[0,0,0,0,0]]*len(cs_validated)\n",
    "cs_validated[\"a_ati\"] = cs_validated['A_ATI'].replace('[\\$,]', '', regex=True).astype(float)\n",
    "cs_validated[\"b_ati\"] = cs_validated['B_ATI'].replace('[\\$,]', '', regex=True).astype(float)\n",
    "cs_validated[\"a_isp\"] = cs_validated['A_ISP'].replace('Yes', '1').replace('No', '0').astype(int)\n",
    "cs_validated[\"b_isp\"] = cs_validated['B_ISP'].replace('Yes', '1').replace('No', '0').astype(int)\n",
    "cs_validated[\"csv_liability\"] = cs_validated['liability'].replace('[\\$,]', '', regex=True).replace('[-]', '0', regex=True).astype(float)"
   ]
  },
  {
   "cell_type": "code",
   "execution_count": 31,
   "id": "30e49642-d978-453c-a6a8-9852a45f2c00",
   "metadata": {},
   "outputs": [],
   "source": [
    "#cs_validated[\"a_cn\"]"
   ]
  },
  {
   "cell_type": "code",
   "execution_count": 96,
   "id": "befc9cab-dd12-4c2b-9fb8-33833855bd17",
   "metadata": {},
   "outputs": [],
   "source": [
    "cs_validated = cs_validated.rename(columns={'Assess_year': 'year', 'A_othercase_n': 'a_othercase_n', \n",
    "'A_RelDep_12l':'a_reldep_12l', 'A_RelDep_13p': 'a_reldep_13p', \n",
    "'A_othercase_12l': 'a_othercase_12l', 'A_othercase_13p': 'a_othercase_13p', 'B_othercase_n': 'b_othercase_n', \n",
    "'B_RelDep_12l': 'b_reldep_12l','B_RelDep_13p': 'b_reldep_13p',  \n",
    "'B_othercase_12l': 'b_othercase_12l', 'B_othercase_13p': 'b_othercase_13p'})"
   ]
  },
  {
   "cell_type": "code",
   "execution_count": 117,
   "id": "234af630-612f-4dc2-b820-da046759c69c",
   "metadata": {},
   "outputs": [
    {
     "name": "stdout",
     "output_type": "stream",
     "text": [
      "-1569.0 {'a_ati_lessssa': 0, 'b_ati_lessssa': 24141.0, 'a_ati_lessreldep': 0, 'b_ati_lessreldep': 18347.16, 'a_csi': 0, 'b_csi': 18347.16, 'combined_csi': 18347.0, 'a_income_pct': 0.0, 'b_income_pct': 1.0, 'a_mc_cost_pc_12l': 0.0, 'a_mc_cost_pc_13p': 0.0, 'b_mc_cost_pc_12l': 1238.4333000000001, 'b_mc_cost_pc_13p': 1467.7728, 'basic_coc': 5412.365000000001, 'a_init_liab': [0.0, 0.0, 0.0, 0.0], 'b_init_liab': [0.0, 383.9109750000001, 1467.76, 1238.4225000000001], 'a_mc_cap': [0.0, 0.0, 0.0, 0.0], 'b_mc_cap': [0.0, 383.91432300000014, 1467.7728, 1238.4333000000001], 'a_isp': 0, 'a_ati': 17833.0, 'b_isp': 0, 'b_ati': 51204.0, 'a_unit_far': 1521.0, 'b_unit_far': 1521.0, 'a_cost_pct': [0, 0.31, 1, 1], 'b_cost_pct': [1, 0.69, 0, 0], 'a_form_far': [1521.0, 0.0, 0, 0], 'b_form_far': [0, 383.9109750000001, 1467.76, 1238.4225000000001], 'a_form_liab': [0.0, 0.0, 0, 0], 'b_form_liab': [0, 383.9109750000001, 1467.76, 1238.4225000000001], 'a_total_liability': -1569.0934750000001, 'b_total_liability': 1569.0934750000001, 'a_selected_liability': -1569.0934750000001, 'liability': -1569.0}\n",
      "Pandas(Index=3134, Case_id=8433711, liability='$3,091.00', payer='ParB to pay ParA', year=2022, A_ATI='17833', B_ATI='51204', A_ISP='No', B_ISP='No', Age1=17, Age2=9.0, Age3=13.0, Age4=0.0, Age5=nan, A_CN1=16, A_CN2=142.0, A_CN3=347.0, A_CN4=332.0, A_CN5=nan, a_reldep_12l=0, a_reldep_13p=0, b_reldep_12l=2, b_reldep_13p=0, a_othercase_n=1, a_othercase_12l=0, a_othercase_13p=3, b_othercase_n=0, b_othercase_12l=0, b_othercase_13p=0, a_oth_lsc=0, b_oth_lsc=0, a_farnta='Yes', b_farnta='Yes', ages=[17.0, 9.0, 13.0, 0.0, nan], nchild=4, a_name='A', b_name='B', a_cn=[16.0, 142.0, 347.0, 332.0, nan], b_cn=[0, 0, 0, 0, 0], a_ati=17833.0, b_ati=51204.0, a_isp=0, b_isp=0, csv_liability=3091.0)\n",
      "3\n"
     ]
    }
   ],
   "source": [
    "importlib.reload(cs_baseline)\n",
    "wrong = 0\n",
    "for row in cs_validated.itertuples():\n",
    "    results = cs_baseline.cs_baseline(**row._asdict() )\n",
    "    csv_liability = row._asdict()[\"csv_liability\"]\n",
    "    baseline_liability =results[\"liability\"]\n",
    "    if (csv_liability - abs(baseline_liability)) > 5 :\n",
    "        if wrong > 2:\n",
    "            print(baseline_liability,results)\n",
    "            print(row)\n",
    "            break\n",
    "        wrong = wrong +1 \n",
    "print(wrong)\n",
    "    #a_selected_liability\n"
   ]
  }
 ],
 "metadata": {
  "kernelspec": {
   "display_name": "Python 3 (ipykernel)",
   "language": "python",
   "name": "python3"
  },
  "language_info": {
   "codemirror_mode": {
    "name": "ipython",
    "version": 3
   },
   "file_extension": ".py",
   "mimetype": "text/x-python",
   "name": "python",
   "nbconvert_exporter": "python",
   "pygments_lexer": "ipython3",
   "version": "3.9.2"
  }
 },
 "nbformat": 4,
 "nbformat_minor": 5
}
