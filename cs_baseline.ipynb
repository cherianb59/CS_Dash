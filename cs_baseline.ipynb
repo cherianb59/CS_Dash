{
 "cells": [
  {
   "cell_type": "code",
   "execution_count": 5,
   "id": "e5bbc4a3-7d62-47a8-a34f-965f5f7df47c",
   "metadata": {},
   "outputs": [],
   "source": [
    "import cs_baseline"
   ]
  },
  {
   "cell_type": "code",
   "execution_count": 6,
   "id": "ddd934f8-026e-40f1-afe7-c730a63fef4b",
   "metadata": {},
   "outputs": [
    {
     "name": "stdout",
     "output_type": "stream",
     "text": [
      "combined_csi 145874.0\n",
      "a_income_pct 0.1572\n",
      "a_cost_pct 0.45\n",
      "a_cost_pct 0.76\n",
      "a_cost_pct 1\n",
      "basic_coc 37445.4\n",
      "a_form_liab 0.0\n",
      "b_form_liab 21698.36112\n",
      "a_total_liability -21698.36112\n"
     ]
    },
    {
     "data": {
      "text/plain": [
       "-21698.36112"
      ]
     },
     "execution_count": 6,
     "metadata": {},
     "output_type": "execute_result"
    }
   ],
   "source": [
    "  cs_baseline.cs_baseline(2022,[1,2,3],3\n",
    ",\"Par A\",[165,265,365], 0 , 0 , 0 , 0, 0,50000,0,0\n",
    ",\"Par B\",[0  ,0  ,0  ], 0 , 0 , 0 , 0, 0,150000,0,0 )"
   ]
  },
  {
   "cell_type": "code",
   "execution_count": 101,
   "id": "ec13590b-558f-4a0d-92cc-47a0e8181f50",
   "metadata": {},
   "outputs": [
    {
     "name": "stdout",
     "output_type": "stream",
     "text": [
      "         45000003 function calls in 44.635 seconds\n",
      "\n",
      "   Ordered by: standard name\n",
      "\n",
      "   ncalls  tottime  percall  cumtime  percall filename:lineno(function)\n",
      "  4200000    7.211    0.000    8.286    0.000 2683789787.py:2(coc)\n",
      "  4200000    0.959    0.000    0.959    0.000 2683789787.py:26(age_mix)\n",
      "  5400000    3.466    0.000   12.710    0.000 2683789787.py:35(coc_simple)\n",
      "  3600000    3.868    0.000    7.320    0.000 852328538.py:2(care_to_cost)\n",
      "   600000   17.294    0.000   43.501    0.000 965174661.py:3(cs_baseline)\n",
      "        1    1.133    1.133   44.634   44.634 <string>:1(<module>)\n",
      "        1    0.000    0.000   44.635   44.635 {built-in method builtins.exec}\n",
      " 10800000    2.982    0.000    2.982    0.000 {built-in method builtins.max}\n",
      "  6000000    1.603    0.000    1.603    0.000 {built-in method builtins.min}\n",
      "  5400000    4.982    0.000    4.982    0.000 {built-in method builtins.round}\n",
      "  1200000    0.487    0.000    0.487    0.000 {built-in method builtins.sum}\n",
      "  1800000    0.329    0.000    0.329    0.000 {built-in method math.ceil}\n",
      "  1800000    0.320    0.000    0.320    0.000 {built-in method math.floor}\n",
      "        1    0.000    0.000    0.000    0.000 {method 'disable' of '_lsprof.Profiler' objects}\n",
      "\n",
      "\n"
     ]
    }
   ],
   "source": [
    "import cProfile\n",
    "#600000 repititions 45 seconds\n",
    "cProfile.run('for i in range(600000):\\\n",
    "             cs_baseline(2022,[1,2,3],3\\\n",
    ",\"Par A\",[165,265,365], 0 , 0 , 0 , 0, 0,50000,0,0\\\n",
    ",\"Par B\",[0  ,0  ,0  ], 0 , 0 , 0 , 0, 0,150000,0,0 )')"
   ]
  }
 ],
 "metadata": {
  "kernelspec": {
   "display_name": "Python 3 (ipykernel)",
   "language": "python",
   "name": "python3"
  },
  "language_info": {
   "codemirror_mode": {
    "name": "ipython",
    "version": 3
   },
   "file_extension": ".py",
   "mimetype": "text/x-python",
   "name": "python",
   "nbconvert_exporter": "python",
   "pygments_lexer": "ipython3",
   "version": "3.9.2"
  }
 },
 "nbformat": 4,
 "nbformat_minor": 5
}
